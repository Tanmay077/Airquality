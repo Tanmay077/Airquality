{
  "nbformat": 4,
  "nbformat_minor": 0,
  "metadata": {
    "kernelspec": {
      "display_name": "Python 3",
      "language": "python",
      "name": "python3"
    },
    "language_info": {
      "codemirror_mode": {
        "name": "ipython",
        "version": 3
      },
      "file_extension": ".py",
      "mimetype": "text/x-python",
      "name": "python",
      "nbconvert_exporter": "python",
      "pygments_lexer": "ipython3",
      "version": "3.7.3"
    },
    "colab": {
      "name": " Source emission rate prediction.ipynb",
      "provenance": [],
      "collapsed_sections": [],
      "include_colab_link": true
    }
  },
  "cells": [
    {
      "cell_type": "markdown",
      "metadata": {
        "id": "view-in-github",
        "colab_type": "text"
      },
      "source": [
        "<a href=\"https://colab.research.google.com/github/Tanmay077/Airquality/blob/master/Source_emission_rate_prediction.ipynb\" target=\"_parent\"><img src=\"https://colab.research.google.com/assets/colab-badge.svg\" alt=\"Open In Colab\"/></a>"
      ]
    },
    {
      "cell_type": "markdown",
      "metadata": {
        "id": "91LmARQkF82S",
        "colab_type": "text"
      },
      "source": [
        "Shared by Tanmay with kllear@rams on 2019 Dec 16\n"
      ]
    },
    {
      "cell_type": "code",
      "metadata": {
        "id": "8G4flRFVa9Qb",
        "colab_type": "code",
        "colab": {}
      },
      "source": [
        "from IPython.core.interactiveshell import InteractiveShell\n",
        "InteractiveShell.ast_node_interactivity=\"all\""
      ],
      "execution_count": 0,
      "outputs": []
    },
    {
      "cell_type": "code",
      "metadata": {
        "id": "BWp1YdHUa9Qf",
        "colab_type": "code",
        "colab": {}
      },
      "source": [
        "import pandas as pd\n"
      ],
      "execution_count": 0,
      "outputs": []
    },
    {
      "cell_type": "code",
      "metadata": {
        "id": "uZyTMT3MRlHE",
        "colab_type": "code",
        "colab": {}
      },
      "source": [
        "url = 'https://raw.githubusercontent.com/Tanmay077/Airquality/master/DR.Lear_email_data.csv'\n",
        "df = pd.read_csv(url)\n",
        "# Dataset is now stored in a Pandas Dataframe"
      ],
      "execution_count": 0,
      "outputs": []
    },
    {
      "cell_type": "code",
      "metadata": {
        "id": "tkx-WN8Qa9Qh",
        "colab_type": "code",
        "colab": {}
      },
      "source": [
        ""
      ],
      "execution_count": 0,
      "outputs": []
    },
    {
      "cell_type": "markdown",
      "metadata": {
        "id": "XDB01iyJa9Qj",
        "colab_type": "text"
      },
      "source": [
        "### Experiment 1 : Without feature reduction"
      ]
    },
    {
      "cell_type": "code",
      "metadata": {
        "id": "xHxaMA4Qb-A6",
        "colab_type": "code",
        "colab": {}
      },
      "source": [
        ""
      ],
      "execution_count": 0,
      "outputs": []
    },
    {
      "cell_type": "code",
      "metadata": {
        "id": "yAH5ZY7da9Qk",
        "colab_type": "code",
        "outputId": "93ad2def-fdf7-47e3-a502-852cf4b9d6a7",
        "colab": {
          "base_uri": "https://localhost:8080/",
          "height": 224
        }
      },
      "source": [
        "df.head()\n",
        "# We have selected theses features inorder to replicate the exact source emission rate function. since log and exponenetial are exactly oposite operations the equation remains same. P.S: I havee not selected \n",
        "# Log transformation is a part of feature engineering:- It helps to handle skewed data and after transformation, the distribution becomes more approximate to normal.\n",
        "#It also decreases the effect of the outliers, due to the normalization of magnitude differences and the model become more robust.\n",
        "# Receptor locations because they remain constant throught the complete data set and does act as a feature in this problem. \n"
      ],
      "execution_count": 48,
      "outputs": [
        {
          "output_type": "execute_result",
          "data": {
            "text/html": [
              "<div>\n",
              "<style scoped>\n",
              "    .dataframe tbody tr th:only-of-type {\n",
              "        vertical-align: middle;\n",
              "    }\n",
              "\n",
              "    .dataframe tbody tr th {\n",
              "        vertical-align: top;\n",
              "    }\n",
              "\n",
              "    .dataframe thead th {\n",
              "        text-align: right;\n",
              "    }\n",
              "</style>\n",
              "<table border=\"1\" class=\"dataframe\">\n",
              "  <thead>\n",
              "    <tr style=\"text-align: right;\">\n",
              "      <th></th>\n",
              "      <th>Receptor_measurement1</th>\n",
              "      <th>Receptor1_Log</th>\n",
              "      <th>Receptor_measurement2</th>\n",
              "      <th>Receptor2_Log</th>\n",
              "      <th>Receptor_measurement3</th>\n",
              "      <th>Receptor_measurement4</th>\n",
              "      <th>Receptor4_Log</th>\n",
              "      <th>Receptor_measurement5</th>\n",
              "      <th>Wind_speed</th>\n",
              "      <th>Wind_speed_reci</th>\n",
              "      <th>Wind_speed_sqr_reci</th>\n",
              "      <th>Wind_speed_sqr_log</th>\n",
              "      <th>Source_Location_X</th>\n",
              "      <th>Source_Location_Y</th>\n",
              "      <th>Log</th>\n",
              "    </tr>\n",
              "  </thead>\n",
              "  <tbody>\n",
              "    <tr>\n",
              "      <th>0</th>\n",
              "      <td>0.002519</td>\n",
              "      <td>-5.197509</td>\n",
              "      <td>0.001176</td>\n",
              "      <td>-5.859333</td>\n",
              "      <td>0.021763</td>\n",
              "      <td>0.000738</td>\n",
              "      <td>-6.26</td>\n",
              "      <td>0.000006</td>\n",
              "      <td>12</td>\n",
              "      <td>0.083333</td>\n",
              "      <td>144.000001</td>\n",
              "      <td>2.158362</td>\n",
              "      <td>100</td>\n",
              "      <td>100</td>\n",
              "      <td>-2.142782</td>\n",
              "    </tr>\n",
              "    <tr>\n",
              "      <th>1</th>\n",
              "      <td>0.002269</td>\n",
              "      <td>-5.288408</td>\n",
              "      <td>0.001059</td>\n",
              "      <td>-5.950290</td>\n",
              "      <td>0.019601</td>\n",
              "      <td>0.000665</td>\n",
              "      <td>-6.35</td>\n",
              "      <td>0.000005</td>\n",
              "      <td>9</td>\n",
              "      <td>0.111111</td>\n",
              "      <td>81.000000</td>\n",
              "      <td>1.908485</td>\n",
              "      <td>100</td>\n",
              "      <td>100</td>\n",
              "      <td>-2.438112</td>\n",
              "    </tr>\n",
              "    <tr>\n",
              "      <th>2</th>\n",
              "      <td>0.003139</td>\n",
              "      <td>-5.006417</td>\n",
              "      <td>0.001465</td>\n",
              "      <td>-5.668265</td>\n",
              "      <td>0.027118</td>\n",
              "      <td>0.000920</td>\n",
              "      <td>-6.07</td>\n",
              "      <td>0.000007</td>\n",
              "      <td>14</td>\n",
              "      <td>0.071429</td>\n",
              "      <td>196.000002</td>\n",
              "      <td>2.292256</td>\n",
              "      <td>100</td>\n",
              "      <td>100</td>\n",
              "      <td>-1.913355</td>\n",
              "    </tr>\n",
              "    <tr>\n",
              "      <th>3</th>\n",
              "      <td>0.042448</td>\n",
              "      <td>-2.744286</td>\n",
              "      <td>0.019812</td>\n",
              "      <td>-3.406143</td>\n",
              "      <td>0.366710</td>\n",
              "      <td>0.012440</td>\n",
              "      <td>-3.81</td>\n",
              "      <td>0.000101</td>\n",
              "      <td>4</td>\n",
              "      <td>0.250000</td>\n",
              "      <td>16.000000</td>\n",
              "      <td>1.204120</td>\n",
              "      <td>100</td>\n",
              "      <td>100</td>\n",
              "      <td>-1.870407</td>\n",
              "    </tr>\n",
              "    <tr>\n",
              "      <th>4</th>\n",
              "      <td>0.003803</td>\n",
              "      <td>-4.839679</td>\n",
              "      <td>0.001775</td>\n",
              "      <td>-5.501554</td>\n",
              "      <td>0.032858</td>\n",
              "      <td>0.001115</td>\n",
              "      <td>-5.91</td>\n",
              "      <td>0.000009</td>\n",
              "      <td>10</td>\n",
              "      <td>0.100000</td>\n",
              "      <td>100.000000</td>\n",
              "      <td>2.000000</td>\n",
              "      <td>100</td>\n",
              "      <td>100</td>\n",
              "      <td>-2.122231</td>\n",
              "    </tr>\n",
              "  </tbody>\n",
              "</table>\n",
              "</div>"
            ],
            "text/plain": [
              "   Receptor_measurement1  Receptor1_Log  ...  Source_Location_Y       Log\n",
              "0               0.002519      -5.197509  ...                100 -2.142782\n",
              "1               0.002269      -5.288408  ...                100 -2.438112\n",
              "2               0.003139      -5.006417  ...                100 -1.913355\n",
              "3               0.042448      -2.744286  ...                100 -1.870407\n",
              "4               0.003803      -4.839679  ...                100 -2.122231\n",
              "\n",
              "[5 rows x 15 columns]"
            ]
          },
          "metadata": {
            "tags": []
          },
          "execution_count": 48
        }
      ]
    },
    {
      "cell_type": "code",
      "metadata": {
        "id": "ELZwPUUFa9Qn",
        "colab_type": "code",
        "outputId": "189cc8d0-3d0e-4c2f-b1a0-510dc1c7d050",
        "colab": {
          "base_uri": "https://localhost:8080/",
          "height": 289
        }
      },
      "source": [
        "df.dtypes"
      ],
      "execution_count": 49,
      "outputs": [
        {
          "output_type": "execute_result",
          "data": {
            "text/plain": [
              "Receptor_measurement1    float64\n",
              "Receptor1_Log            float64\n",
              "Receptor_measurement2    float64\n",
              "Receptor2_Log            float64\n",
              "Receptor_measurement3    float64\n",
              "Receptor_measurement4    float64\n",
              "Receptor4_Log            float64\n",
              "Receptor_measurement5    float64\n",
              "Wind_speed                 int64\n",
              "Wind_speed_reci          float64\n",
              "Wind_speed_sqr_reci      float64\n",
              "Wind_speed_sqr_log       float64\n",
              "Source_Location_X          int64\n",
              "Source_Location_Y          int64\n",
              "Log                      float64\n",
              "dtype: object"
            ]
          },
          "metadata": {
            "tags": []
          },
          "execution_count": 49
        }
      ]
    },
    {
      "cell_type": "code",
      "metadata": {
        "id": "8-krGWxXa9Qp",
        "colab_type": "code",
        "colab": {}
      },
      "source": [
        "import sklearn"
      ],
      "execution_count": 0,
      "outputs": []
    },
    {
      "cell_type": "code",
      "metadata": {
        "id": "KrrO0Y30a9Qr",
        "colab_type": "code",
        "colab": {}
      },
      "source": [
        "from sklearn.linear_model import LinearRegression\n"
      ],
      "execution_count": 0,
      "outputs": []
    },
    {
      "cell_type": "code",
      "metadata": {
        "id": "YEzBZJ_va9Qt",
        "colab_type": "code",
        "outputId": "8d450e36-d1f2-4079-cf07-95ad8d61227a",
        "colab": {
          "base_uri": "https://localhost:8080/",
          "height": 379
        }
      },
      "source": [
        "df.head(10)"
      ],
      "execution_count": 52,
      "outputs": [
        {
          "output_type": "execute_result",
          "data": {
            "text/html": [
              "<div>\n",
              "<style scoped>\n",
              "    .dataframe tbody tr th:only-of-type {\n",
              "        vertical-align: middle;\n",
              "    }\n",
              "\n",
              "    .dataframe tbody tr th {\n",
              "        vertical-align: top;\n",
              "    }\n",
              "\n",
              "    .dataframe thead th {\n",
              "        text-align: right;\n",
              "    }\n",
              "</style>\n",
              "<table border=\"1\" class=\"dataframe\">\n",
              "  <thead>\n",
              "    <tr style=\"text-align: right;\">\n",
              "      <th></th>\n",
              "      <th>Receptor_measurement1</th>\n",
              "      <th>Receptor1_Log</th>\n",
              "      <th>Receptor_measurement2</th>\n",
              "      <th>Receptor2_Log</th>\n",
              "      <th>Receptor_measurement3</th>\n",
              "      <th>Receptor_measurement4</th>\n",
              "      <th>Receptor4_Log</th>\n",
              "      <th>Receptor_measurement5</th>\n",
              "      <th>Wind_speed</th>\n",
              "      <th>Wind_speed_reci</th>\n",
              "      <th>Wind_speed_sqr_reci</th>\n",
              "      <th>Wind_speed_sqr_log</th>\n",
              "      <th>Source_Location_X</th>\n",
              "      <th>Source_Location_Y</th>\n",
              "      <th>Log</th>\n",
              "    </tr>\n",
              "  </thead>\n",
              "  <tbody>\n",
              "    <tr>\n",
              "      <th>0</th>\n",
              "      <td>0.002519</td>\n",
              "      <td>-5.197509</td>\n",
              "      <td>0.001176</td>\n",
              "      <td>-5.859333</td>\n",
              "      <td>0.021763</td>\n",
              "      <td>0.000738</td>\n",
              "      <td>-6.26</td>\n",
              "      <td>0.000006</td>\n",
              "      <td>12</td>\n",
              "      <td>0.083333</td>\n",
              "      <td>144.000001</td>\n",
              "      <td>2.158362</td>\n",
              "      <td>100</td>\n",
              "      <td>100</td>\n",
              "      <td>-2.142782</td>\n",
              "    </tr>\n",
              "    <tr>\n",
              "      <th>1</th>\n",
              "      <td>0.002269</td>\n",
              "      <td>-5.288408</td>\n",
              "      <td>0.001059</td>\n",
              "      <td>-5.950290</td>\n",
              "      <td>0.019601</td>\n",
              "      <td>0.000665</td>\n",
              "      <td>-6.35</td>\n",
              "      <td>0.000005</td>\n",
              "      <td>9</td>\n",
              "      <td>0.111111</td>\n",
              "      <td>81.000000</td>\n",
              "      <td>1.908485</td>\n",
              "      <td>100</td>\n",
              "      <td>100</td>\n",
              "      <td>-2.438112</td>\n",
              "    </tr>\n",
              "    <tr>\n",
              "      <th>2</th>\n",
              "      <td>0.003139</td>\n",
              "      <td>-5.006417</td>\n",
              "      <td>0.001465</td>\n",
              "      <td>-5.668265</td>\n",
              "      <td>0.027118</td>\n",
              "      <td>0.000920</td>\n",
              "      <td>-6.07</td>\n",
              "      <td>0.000007</td>\n",
              "      <td>14</td>\n",
              "      <td>0.071429</td>\n",
              "      <td>196.000002</td>\n",
              "      <td>2.292256</td>\n",
              "      <td>100</td>\n",
              "      <td>100</td>\n",
              "      <td>-1.913355</td>\n",
              "    </tr>\n",
              "    <tr>\n",
              "      <th>3</th>\n",
              "      <td>0.042448</td>\n",
              "      <td>-2.744286</td>\n",
              "      <td>0.019812</td>\n",
              "      <td>-3.406143</td>\n",
              "      <td>0.366710</td>\n",
              "      <td>0.012440</td>\n",
              "      <td>-3.81</td>\n",
              "      <td>0.000101</td>\n",
              "      <td>4</td>\n",
              "      <td>0.250000</td>\n",
              "      <td>16.000000</td>\n",
              "      <td>1.204120</td>\n",
              "      <td>100</td>\n",
              "      <td>100</td>\n",
              "      <td>-1.870407</td>\n",
              "    </tr>\n",
              "    <tr>\n",
              "      <th>4</th>\n",
              "      <td>0.003803</td>\n",
              "      <td>-4.839679</td>\n",
              "      <td>0.001775</td>\n",
              "      <td>-5.501554</td>\n",
              "      <td>0.032858</td>\n",
              "      <td>0.001115</td>\n",
              "      <td>-5.91</td>\n",
              "      <td>0.000009</td>\n",
              "      <td>10</td>\n",
              "      <td>0.100000</td>\n",
              "      <td>100.000000</td>\n",
              "      <td>2.000000</td>\n",
              "      <td>100</td>\n",
              "      <td>100</td>\n",
              "      <td>-2.122231</td>\n",
              "    </tr>\n",
              "    <tr>\n",
              "      <th>5</th>\n",
              "      <td>0.001636</td>\n",
              "      <td>-5.572540</td>\n",
              "      <td>0.000764</td>\n",
              "      <td>-6.234371</td>\n",
              "      <td>0.014132</td>\n",
              "      <td>0.000479</td>\n",
              "      <td>-6.64</td>\n",
              "      <td>0.000004</td>\n",
              "      <td>13</td>\n",
              "      <td>0.076923</td>\n",
              "      <td>169.000000</td>\n",
              "      <td>2.227887</td>\n",
              "      <td>100</td>\n",
              "      <td>100</td>\n",
              "      <td>-2.260760</td>\n",
              "    </tr>\n",
              "    <tr>\n",
              "      <th>6</th>\n",
              "      <td>0.002505</td>\n",
              "      <td>-5.202419</td>\n",
              "      <td>0.001169</td>\n",
              "      <td>-5.864297</td>\n",
              "      <td>0.021640</td>\n",
              "      <td>0.000734</td>\n",
              "      <td>-6.27</td>\n",
              "      <td>0.000006</td>\n",
              "      <td>17</td>\n",
              "      <td>0.058824</td>\n",
              "      <td>289.000004</td>\n",
              "      <td>2.460898</td>\n",
              "      <td>100</td>\n",
              "      <td>100</td>\n",
              "      <td>-1.842694</td>\n",
              "    </tr>\n",
              "    <tr>\n",
              "      <th>7</th>\n",
              "      <td>0.003059</td>\n",
              "      <td>-5.028926</td>\n",
              "      <td>0.001428</td>\n",
              "      <td>-5.690787</td>\n",
              "      <td>0.026425</td>\n",
              "      <td>0.000896</td>\n",
              "      <td>-6.09</td>\n",
              "      <td>0.000007</td>\n",
              "      <td>16</td>\n",
              "      <td>0.062500</td>\n",
              "      <td>256.000000</td>\n",
              "      <td>2.408240</td>\n",
              "      <td>100</td>\n",
              "      <td>100</td>\n",
              "      <td>-1.808605</td>\n",
              "    </tr>\n",
              "    <tr>\n",
              "      <th>8</th>\n",
              "      <td>0.006392</td>\n",
              "      <td>-4.388713</td>\n",
              "      <td>0.002983</td>\n",
              "      <td>-5.050577</td>\n",
              "      <td>0.055223</td>\n",
              "      <td>0.001873</td>\n",
              "      <td>-5.45</td>\n",
              "      <td>0.000015</td>\n",
              "      <td>11</td>\n",
              "      <td>0.090909</td>\n",
              "      <td>121.000000</td>\n",
              "      <td>2.082785</td>\n",
              "      <td>100</td>\n",
              "      <td>100</td>\n",
              "      <td>-1.813948</td>\n",
              "    </tr>\n",
              "    <tr>\n",
              "      <th>9</th>\n",
              "      <td>0.164600</td>\n",
              "      <td>-1.567140</td>\n",
              "      <td>0.076824</td>\n",
              "      <td>-2.229006</td>\n",
              "      <td>1.422000</td>\n",
              "      <td>0.048237</td>\n",
              "      <td>-2.63</td>\n",
              "      <td>0.000392</td>\n",
              "      <td>2</td>\n",
              "      <td>0.500000</td>\n",
              "      <td>4.000000</td>\n",
              "      <td>0.602060</td>\n",
              "      <td>100</td>\n",
              "      <td>100</td>\n",
              "      <td>-1.883924</td>\n",
              "    </tr>\n",
              "  </tbody>\n",
              "</table>\n",
              "</div>"
            ],
            "text/plain": [
              "   Receptor_measurement1  Receptor1_Log  ...  Source_Location_Y       Log\n",
              "0               0.002519      -5.197509  ...                100 -2.142782\n",
              "1               0.002269      -5.288408  ...                100 -2.438112\n",
              "2               0.003139      -5.006417  ...                100 -1.913355\n",
              "3               0.042448      -2.744286  ...                100 -1.870407\n",
              "4               0.003803      -4.839679  ...                100 -2.122231\n",
              "5               0.001636      -5.572540  ...                100 -2.260760\n",
              "6               0.002505      -5.202419  ...                100 -1.842694\n",
              "7               0.003059      -5.028926  ...                100 -1.808605\n",
              "8               0.006392      -4.388713  ...                100 -1.813948\n",
              "9               0.164600      -1.567140  ...                100 -1.883924\n",
              "\n",
              "[10 rows x 15 columns]"
            ]
          },
          "metadata": {
            "tags": []
          },
          "execution_count": 52
        }
      ]
    },
    {
      "cell_type": "code",
      "metadata": {
        "id": "cRaX1Ymha9Qv",
        "colab_type": "code",
        "colab": {}
      },
      "source": [
        "def myfillna(series):\n",
        "    if series.dtype is pd.np.dtype(float):\n",
        "        return series.fillna('0')\n",
        "    elif series.dtype is pd.np.dtype(int):\n",
        "        return series.fillna('0')\n",
        "    else:\n",
        "        return series.fillna('NA')"
      ],
      "execution_count": 0,
      "outputs": []
    },
    {
      "cell_type": "code",
      "metadata": {
        "id": "bEYb_k-ga9Qx",
        "colab_type": "code",
        "outputId": "1a6d5660-6fac-435a-8409-c0996c371c82",
        "colab": {
          "base_uri": "https://localhost:8080/",
          "height": 34
        }
      },
      "source": [
        "df.shape"
      ],
      "execution_count": 54,
      "outputs": [
        {
          "output_type": "execute_result",
          "data": {
            "text/plain": [
              "(1607, 15)"
            ]
          },
          "metadata": {
            "tags": []
          },
          "execution_count": 54
        }
      ]
    },
    {
      "cell_type": "code",
      "metadata": {
        "id": "-kEqigyLa9Qz",
        "colab_type": "code",
        "outputId": "48d23869-d835-4efd-be28-efc98fe193f0",
        "colab": {
          "base_uri": "https://localhost:8080/",
          "height": 289
        }
      },
      "source": [
        "df.isnull().sum()"
      ],
      "execution_count": 55,
      "outputs": [
        {
          "output_type": "execute_result",
          "data": {
            "text/plain": [
              "Receptor_measurement1    0\n",
              "Receptor1_Log            0\n",
              "Receptor_measurement2    0\n",
              "Receptor2_Log            0\n",
              "Receptor_measurement3    0\n",
              "Receptor_measurement4    0\n",
              "Receptor4_Log            0\n",
              "Receptor_measurement5    0\n",
              "Wind_speed               0\n",
              "Wind_speed_reci          0\n",
              "Wind_speed_sqr_reci      0\n",
              "Wind_speed_sqr_log       0\n",
              "Source_Location_X        0\n",
              "Source_Location_Y        0\n",
              "Log                      0\n",
              "dtype: int64"
            ]
          },
          "metadata": {
            "tags": []
          },
          "execution_count": 55
        }
      ]
    },
    {
      "cell_type": "code",
      "metadata": {
        "id": "E5FziYw3a9Q0",
        "colab_type": "code",
        "colab": {}
      },
      "source": [
        "df=df.apply(myfillna)"
      ],
      "execution_count": 0,
      "outputs": []
    },
    {
      "cell_type": "code",
      "metadata": {
        "id": "XtdwRTSna9Q2",
        "colab_type": "code",
        "outputId": "8f81792a-4680-4d27-8de4-275d66e31253",
        "colab": {
          "base_uri": "https://localhost:8080/",
          "height": 119
        }
      },
      "source": [
        "df.columns"
      ],
      "execution_count": 57,
      "outputs": [
        {
          "output_type": "execute_result",
          "data": {
            "text/plain": [
              "Index(['Receptor_measurement1', 'Receptor1_Log', 'Receptor_measurement2',\n",
              "       'Receptor2_Log', 'Receptor_measurement3', 'Receptor_measurement4',\n",
              "       'Receptor4_Log', 'Receptor_measurement5', 'Wind_speed',\n",
              "       'Wind_speed_reci', 'Wind_speed_sqr_reci', 'Wind_speed_sqr_log',\n",
              "       'Source_Location_X', 'Source_Location_Y', 'Log'],\n",
              "      dtype='object')"
            ]
          },
          "metadata": {
            "tags": []
          },
          "execution_count": 57
        }
      ]
    },
    {
      "cell_type": "code",
      "metadata": {
        "id": "BNByDRcWa9Q4",
        "colab_type": "code",
        "colab": {}
      },
      "source": [
        "from sklearn.model_selection import train_test_split"
      ],
      "execution_count": 0,
      "outputs": []
    },
    {
      "cell_type": "code",
      "metadata": {
        "id": "LDexir2-a9Q6",
        "colab_type": "code",
        "colab": {}
      },
      "source": [
        "df_target=df.Log\n",
        "df_train = df.loc[:, df.columns != 'Log']\n",
        "\n"
      ],
      "execution_count": 0,
      "outputs": []
    },
    {
      "cell_type": "code",
      "metadata": {
        "id": "XI8OH_TYa9Q8",
        "colab_type": "code",
        "colab": {}
      },
      "source": [
        "x_train, x_test, y_train, y_test = train_test_split(df_train,df_target,test_size=0.2, random_state=4)"
      ],
      "execution_count": 0,
      "outputs": []
    },
    {
      "cell_type": "code",
      "metadata": {
        "id": "Kp6vBb4_a9Q-",
        "colab_type": "code",
        "colab": {}
      },
      "source": [
        "linear=LinearRegression(normalize=True)"
      ],
      "execution_count": 0,
      "outputs": []
    },
    {
      "cell_type": "code",
      "metadata": {
        "id": "gMafoqUKa9Q_",
        "colab_type": "code",
        "outputId": "ca1c75e9-480a-4558-98d7-efec8127727c",
        "colab": {
          "base_uri": "https://localhost:8080/",
          "height": 34
        }
      },
      "source": [
        "linear.fit(x_train,y_train)"
      ],
      "execution_count": 62,
      "outputs": [
        {
          "output_type": "execute_result",
          "data": {
            "text/plain": [
              "LinearRegression(copy_X=True, fit_intercept=True, n_jobs=None, normalize=True)"
            ]
          },
          "metadata": {
            "tags": []
          },
          "execution_count": 62
        }
      ]
    },
    {
      "cell_type": "code",
      "metadata": {
        "id": "8VQiyyFXa9RB",
        "colab_type": "code",
        "colab": {}
      },
      "source": [
        "output=linear.predict(x_test)"
      ],
      "execution_count": 0,
      "outputs": []
    },
    {
      "cell_type": "code",
      "metadata": {
        "id": "q9Ca18jVa9RD",
        "colab_type": "code",
        "colab": {}
      },
      "source": [
        "from sklearn.metrics import mean_squared_error, r2_score"
      ],
      "execution_count": 0,
      "outputs": []
    },
    {
      "cell_type": "code",
      "metadata": {
        "scrolled": true,
        "id": "5XUpNG9ua9RG",
        "colab_type": "code",
        "outputId": "f192ac43-2ca8-4699-cf84-a44e5e08b50e",
        "colab": {
          "base_uri": "https://localhost:8080/",
          "height": 34
        }
      },
      "source": [
        "mean_squared_error(y_test,output)"
      ],
      "execution_count": 65,
      "outputs": [
        {
          "output_type": "execute_result",
          "data": {
            "text/plain": [
              "1.901616950501726e-07"
            ]
          },
          "metadata": {
            "tags": []
          },
          "execution_count": 65
        }
      ]
    },
    {
      "cell_type": "code",
      "metadata": {
        "scrolled": true,
        "id": "s7nwFi9ga9RJ",
        "colab_type": "code",
        "outputId": "484dd724-55e2-4d53-ace9-0a0c5b9eb9ec",
        "colab": {
          "base_uri": "https://localhost:8080/",
          "height": 102
        }
      },
      "source": [
        "#output\n",
        "print('Coefficients: \\n', linear.coef_)\n",
        "\n",
        "#Below are the linear regression coefficient corresponding to each feature. It can be seen receptor1 conecntration,receptor2 conecntration and wind speed square log has the higest positive effect\n",
        "# Where as wind speed and wind speed reciprocal has the higest negative effect on the source emission rate.\n"
      ],
      "execution_count": 66,
      "outputs": [
        {
          "output_type": "stream",
          "text": [
            "Coefficients: \n",
            " [ 2.98633530e+00 -1.86093087e-01 -1.17489749e+01  6.91401119e-01\n",
            " -8.46392845e-03  8.78189683e+00 -5.30504552e-03 -1.31871795e+00\n",
            " -2.35015709e-05  1.01797201e-04  6.97493940e-07  1.00011758e+00\n",
            "  0.00000000e+00 -2.05670707e-03]\n"
          ],
          "name": "stdout"
        }
      ]
    },
    {
      "cell_type": "code",
      "metadata": {
        "id": "ifGZqSQna9RM",
        "colab_type": "code",
        "outputId": "9054ef1e-ab69-4a5d-a0d6-23b269544b45",
        "colab": {
          "base_uri": "https://localhost:8080/",
          "height": 34
        }
      },
      "source": [
        "r2_score(y_test,output)\n",
        "\n"
      ],
      "execution_count": 67,
      "outputs": [
        {
          "output_type": "execute_result",
          "data": {
            "text/plain": [
              "0.9999989182381055"
            ]
          },
          "metadata": {
            "tags": []
          },
          "execution_count": 67
        }
      ]
    },
    {
      "cell_type": "code",
      "metadata": {
        "id": "Em6KBArouFZ_",
        "colab_type": "code",
        "colab": {}
      },
      "source": [
        ""
      ],
      "execution_count": 0,
      "outputs": []
    },
    {
      "cell_type": "code",
      "metadata": {
        "id": "nrJObgdZa9RO",
        "colab_type": "code",
        "outputId": "0305bc65-6127-4f40-aef5-cd865d480663",
        "colab": {
          "base_uri": "https://localhost:8080/",
          "height": 265
        }
      },
      "source": [
        "pd.DataFrame({'y_test': y_test ,'predict':linear.predict(x_test)})\n",
        "\n",
        "%matplotlib inline\n",
        "import matplotlib.pyplot as plt\n",
        "\n",
        "plt.plot(y_test, output, 'o', color='black');\n",
        "\n",
        "\n",
        "\n"
      ],
      "execution_count": 68,
      "outputs": [
        {
          "output_type": "display_data",
          "data": {
            "image/png": "[encoded data removed]",
            "text/plain": [
              "<Figure size 432x288 with 1 Axes>"
            ]
          },
          "metadata": {
            "tags": []
          }
        }
      ]
    },
    {
      "cell_type": "code",
      "metadata": {
        "id": "UaekJWsJa9RP",
        "colab_type": "code",
        "colab": {}
      },
      "source": [
        ""
      ],
      "execution_count": 0,
      "outputs": []
    },
    {
      "cell_type": "markdown",
      "metadata": {
        "id": "7KH08qqQa9RS",
        "colab_type": "text"
      },
      "source": [
        "### Experiment 2 : With feature reduction"
      ]
    },
    {
      "cell_type": "code",
      "metadata": {
        "id": "lzckvmgta9RS",
        "colab_type": "code",
        "colab": {}
      },
      "source": [
        "from sklearn.decomposition import PCA"
      ],
      "execution_count": 0,
      "outputs": []
    },
    {
      "cell_type": "code",
      "metadata": {
        "id": "o8hSKAyoa9RU",
        "colab_type": "code",
        "outputId": "231c593d-154c-413e-c199-2475b465d21d",
        "colab": {
          "base_uri": "https://localhost:8080/",
          "height": 289
        }
      },
      "source": [
        "corr_matrix = df.corr()\n",
        "corr_matrix[\"Log\"].sort_values(ascending=False)"
      ],
      "execution_count": 70,
      "outputs": [
        {
          "output_type": "execute_result",
          "data": {
            "text/plain": [
              "Log                      1.000000\n",
              "Receptor4_Log            0.541088\n",
              "Receptor2_Log            0.538184\n",
              "Receptor1_Log            0.491149\n",
              "Receptor_measurement3    0.163330\n",
              "Receptor_measurement1    0.163330\n",
              "Receptor_measurement2    0.163321\n",
              "Receptor_measurement4    0.163309\n",
              "Receptor_measurement5    0.129704\n",
              "Wind_speed_reci          0.012144\n",
              "Source_Location_Y       -0.001092\n",
              "Wind_speed              -0.002532\n",
              "Wind_speed_sqr_log      -0.004210\n",
              "Wind_speed_sqr_reci     -0.004540\n",
              "Source_Location_X             NaN\n",
              "Name: Log, dtype: float64"
            ]
          },
          "metadata": {
            "tags": []
          },
          "execution_count": 70
        }
      ]
    },
    {
      "cell_type": "code",
      "metadata": {
        "id": "3d-WgcnFa9RV",
        "colab_type": "code",
        "colab": {}
      },
      "source": [
        "pca = PCA(n_components=6, whiten='True')\n",
        "x = pca.fit(df_train).transform(df_train)"
      ],
      "execution_count": 0,
      "outputs": []
    },
    {
      "cell_type": "code",
      "metadata": {
        "id": "VUAfBXbQa9RX",
        "colab_type": "code",
        "outputId": "6fe1edcf-799e-480e-bd7a-3d68605d0a75",
        "colab": {
          "base_uri": "https://localhost:8080/",
          "height": 51
        }
      },
      "source": [
        "pca.explained_variance_"
      ],
      "execution_count": 72,
      "outputs": [
        {
          "output_type": "execute_result",
          "data": {
            "text/plain": [
              "array([1.56383729e+04, 1.40782434e+02, 5.34950282e+00, 9.82063589e-01,\n",
              "       3.91699080e-01, 9.52109852e-03])"
            ]
          },
          "metadata": {
            "tags": []
          },
          "execution_count": 72
        }
      ]
    },
    {
      "cell_type": "code",
      "metadata": {
        "id": "JDPEnELba9RZ",
        "colab_type": "code",
        "colab": {}
      },
      "source": [
        "x_train, x_test, y_train, y_test = train_test_split(x,df_target,test_size=0.3, random_state=2)"
      ],
      "execution_count": 0,
      "outputs": []
    },
    {
      "cell_type": "code",
      "metadata": {
        "id": "1gGTwDNea9Ra",
        "colab_type": "code",
        "colab": {}
      },
      "source": [
        "linear=LinearRegression(normalize=False)"
      ],
      "execution_count": 0,
      "outputs": []
    },
    {
      "cell_type": "code",
      "metadata": {
        "id": "d2lgA0z4a9Rc",
        "colab_type": "code",
        "outputId": "9475bc22-fe25-479c-ec38-8dbae770e138",
        "colab": {
          "base_uri": "https://localhost:8080/",
          "height": 34
        }
      },
      "source": [
        "linear.fit(x_train,y_train)"
      ],
      "execution_count": 75,
      "outputs": [
        {
          "output_type": "execute_result",
          "data": {
            "text/plain": [
              "LinearRegression(copy_X=True, fit_intercept=True, n_jobs=None, normalize=False)"
            ]
          },
          "metadata": {
            "tags": []
          },
          "execution_count": 75
        }
      ]
    },
    {
      "cell_type": "code",
      "metadata": {
        "id": "z3JIMMvFa9Rf",
        "colab_type": "code",
        "outputId": "da74251b-f80b-442f-acef-cd27d06a56d9",
        "colab": {
          "base_uri": "https://localhost:8080/",
          "height": 34
        }
      },
      "source": [
        "mean_squared_error(y_test,linear.predict(x_test))"
      ],
      "execution_count": 76,
      "outputs": [
        {
          "output_type": "execute_result",
          "data": {
            "text/plain": [
              "0.0010272458106578473"
            ]
          },
          "metadata": {
            "tags": []
          },
          "execution_count": 76
        }
      ]
    },
    {
      "cell_type": "code",
      "metadata": {
        "id": "QtD5wmXCa9Rg",
        "colab_type": "code",
        "outputId": "14e23617-aac2-4e51-f02f-f92e01ec2fcc",
        "colab": {
          "base_uri": "https://localhost:8080/",
          "height": 34
        }
      },
      "source": [
        "r2_score(y_test,linear.predict(x_test))"
      ],
      "execution_count": 77,
      "outputs": [
        {
          "output_type": "execute_result",
          "data": {
            "text/plain": [
              "0.9942678333664396"
            ]
          },
          "metadata": {
            "tags": []
          },
          "execution_count": 77
        }
      ]
    },
    {
      "cell_type": "code",
      "metadata": {
        "id": "LPEQNkHxa9Ri",
        "colab_type": "code",
        "outputId": "2f20ed75-7c07-4d8e-cd59-27ac9d5461ee",
        "colab": {
          "base_uri": "https://localhost:8080/",
          "height": 419
        }
      },
      "source": [
        "pd.DataFrame({'y_test': y_test ,'predict':linear.predict(x_test)})"
      ],
      "execution_count": 78,
      "outputs": [
        {
          "output_type": "execute_result",
          "data": {
            "text/html": [
              "<div>\n",
              "<style scoped>\n",
              "    .dataframe tbody tr th:only-of-type {\n",
              "        vertical-align: middle;\n",
              "    }\n",
              "\n",
              "    .dataframe tbody tr th {\n",
              "        vertical-align: top;\n",
              "    }\n",
              "\n",
              "    .dataframe thead th {\n",
              "        text-align: right;\n",
              "    }\n",
              "</style>\n",
              "<table border=\"1\" class=\"dataframe\">\n",
              "  <thead>\n",
              "    <tr style=\"text-align: right;\">\n",
              "      <th></th>\n",
              "      <th>y_test</th>\n",
              "      <th>predict</th>\n",
              "    </tr>\n",
              "  </thead>\n",
              "  <tbody>\n",
              "    <tr>\n",
              "      <th>665</th>\n",
              "      <td>-2.206552</td>\n",
              "      <td>-2.218338</td>\n",
              "    </tr>\n",
              "    <tr>\n",
              "      <th>1161</th>\n",
              "      <td>-2.243531</td>\n",
              "      <td>-2.239172</td>\n",
              "    </tr>\n",
              "    <tr>\n",
              "      <th>1551</th>\n",
              "      <td>-2.083836</td>\n",
              "      <td>-2.079895</td>\n",
              "    </tr>\n",
              "    <tr>\n",
              "      <th>877</th>\n",
              "      <td>-2.826697</td>\n",
              "      <td>-2.835221</td>\n",
              "    </tr>\n",
              "    <tr>\n",
              "      <th>1040</th>\n",
              "      <td>-1.896744</td>\n",
              "      <td>-1.898226</td>\n",
              "    </tr>\n",
              "    <tr>\n",
              "      <th>...</th>\n",
              "      <td>...</td>\n",
              "      <td>...</td>\n",
              "    </tr>\n",
              "    <tr>\n",
              "      <th>146</th>\n",
              "      <td>-2.349586</td>\n",
              "      <td>-2.328219</td>\n",
              "    </tr>\n",
              "    <tr>\n",
              "      <th>1317</th>\n",
              "      <td>-2.015932</td>\n",
              "      <td>-2.021217</td>\n",
              "    </tr>\n",
              "    <tr>\n",
              "      <th>824</th>\n",
              "      <td>-2.122231</td>\n",
              "      <td>-2.132734</td>\n",
              "    </tr>\n",
              "    <tr>\n",
              "      <th>1504</th>\n",
              "      <td>-2.045487</td>\n",
              "      <td>-2.046656</td>\n",
              "    </tr>\n",
              "    <tr>\n",
              "      <th>1139</th>\n",
              "      <td>-1.813948</td>\n",
              "      <td>-1.808178</td>\n",
              "    </tr>\n",
              "  </tbody>\n",
              "</table>\n",
              "<p>483 rows × 2 columns</p>\n",
              "</div>"
            ],
            "text/plain": [
              "        y_test   predict\n",
              "665  -2.206552 -2.218338\n",
              "1161 -2.243531 -2.239172\n",
              "1551 -2.083836 -2.079895\n",
              "877  -2.826697 -2.835221\n",
              "1040 -1.896744 -1.898226\n",
              "...        ...       ...\n",
              "146  -2.349586 -2.328219\n",
              "1317 -2.015932 -2.021217\n",
              "824  -2.122231 -2.132734\n",
              "1504 -2.045487 -2.046656\n",
              "1139 -1.813948 -1.808178\n",
              "\n",
              "[483 rows x 2 columns]"
            ]
          },
          "metadata": {
            "tags": []
          },
          "execution_count": 78
        }
      ]
    },
    {
      "cell_type": "markdown",
      "metadata": {
        "id": "LsttAIQia9Rk",
        "colab_type": "text"
      },
      "source": [
        "## 3. After normalizing"
      ]
    },
    {
      "cell_type": "code",
      "metadata": {
        "id": "z7QFrYiPa9Rl",
        "colab_type": "code",
        "colab": {}
      },
      "source": [
        "df_target=df.Log\n",
        "df_train = df.loc[:, df.columns != 'Log']"
      ],
      "execution_count": 0,
      "outputs": []
    },
    {
      "cell_type": "code",
      "metadata": {
        "id": "Y42pa4PCa9Rm",
        "colab_type": "code",
        "colab": {}
      },
      "source": [
        ""
      ],
      "execution_count": 0,
      "outputs": []
    },
    {
      "cell_type": "code",
      "metadata": {
        "id": "pMDehtBIa9Rp",
        "colab_type": "code",
        "colab": {}
      },
      "source": [
        "df_norm = (df_train - df_train.mean()) / (df_train.max() - df_train.min())"
      ],
      "execution_count": 0,
      "outputs": []
    },
    {
      "cell_type": "code",
      "metadata": {
        "id": "TmW2wXJTa9Rq",
        "colab_type": "code",
        "outputId": "2e6177f1-4ee1-4dc1-d37f-b2b226dd41fc",
        "colab": {
          "base_uri": "https://localhost:8080/",
          "height": 439
        }
      },
      "source": [
        "df_norm"
      ],
      "execution_count": 81,
      "outputs": [
        {
          "output_type": "execute_result",
          "data": {
            "text/html": [
              "<div>\n",
              "<style scoped>\n",
              "    .dataframe tbody tr th:only-of-type {\n",
              "        vertical-align: middle;\n",
              "    }\n",
              "\n",
              "    .dataframe tbody tr th {\n",
              "        vertical-align: top;\n",
              "    }\n",
              "\n",
              "    .dataframe thead th {\n",
              "        text-align: right;\n",
              "    }\n",
              "</style>\n",
              "<table border=\"1\" class=\"dataframe\">\n",
              "  <thead>\n",
              "    <tr style=\"text-align: right;\">\n",
              "      <th></th>\n",
              "      <th>Receptor_measurement1</th>\n",
              "      <th>Receptor1_Log</th>\n",
              "      <th>Receptor_measurement2</th>\n",
              "      <th>Receptor2_Log</th>\n",
              "      <th>Receptor_measurement3</th>\n",
              "      <th>Receptor_measurement4</th>\n",
              "      <th>Receptor4_Log</th>\n",
              "      <th>Receptor_measurement5</th>\n",
              "      <th>Wind_speed</th>\n",
              "      <th>Wind_speed_reci</th>\n",
              "      <th>Wind_speed_sqr_reci</th>\n",
              "      <th>Wind_speed_sqr_log</th>\n",
              "      <th>Source_Location_X</th>\n",
              "      <th>Source_Location_Y</th>\n",
              "    </tr>\n",
              "  </thead>\n",
              "  <tbody>\n",
              "    <tr>\n",
              "      <th>0</th>\n",
              "      <td>-0.037274</td>\n",
              "      <td>-0.016682</td>\n",
              "      <td>-0.037278</td>\n",
              "      <td>-0.037547</td>\n",
              "      <td>-0.037273</td>\n",
              "      <td>-0.037286</td>\n",
              "      <td>-0.037693</td>\n",
              "      <td>-0.010820</td>\n",
              "      <td>0.063669</td>\n",
              "      <td>-0.094568</td>\n",
              "      <td>-0.013871</td>\n",
              "      <td>0.111206</td>\n",
              "      <td>NaN</td>\n",
              "      <td>-0.002813</td>\n",
              "    </tr>\n",
              "    <tr>\n",
              "      <th>1</th>\n",
              "      <td>-0.037594</td>\n",
              "      <td>-0.020832</td>\n",
              "      <td>-0.037599</td>\n",
              "      <td>-0.046140</td>\n",
              "      <td>-0.037593</td>\n",
              "      <td>-0.037606</td>\n",
              "      <td>-0.046167</td>\n",
              "      <td>-0.010905</td>\n",
              "      <td>-0.094226</td>\n",
              "      <td>-0.065328</td>\n",
              "      <td>-0.171766</td>\n",
              "      <td>0.015176</td>\n",
              "      <td>NaN</td>\n",
              "      <td>-0.002813</td>\n",
              "    </tr>\n",
              "    <tr>\n",
              "      <th>2</th>\n",
              "      <td>-0.036481</td>\n",
              "      <td>-0.007956</td>\n",
              "      <td>-0.036485</td>\n",
              "      <td>-0.019496</td>\n",
              "      <td>-0.036480</td>\n",
              "      <td>-0.036493</td>\n",
              "      <td>-0.019802</td>\n",
              "      <td>-0.010612</td>\n",
              "      <td>0.168932</td>\n",
              "      <td>-0.107099</td>\n",
              "      <td>0.116455</td>\n",
              "      <td>0.162663</td>\n",
              "      <td>NaN</td>\n",
              "      <td>-0.002813</td>\n",
              "    </tr>\n",
              "    <tr>\n",
              "      <th>3</th>\n",
              "      <td>0.013823</td>\n",
              "      <td>0.095339</td>\n",
              "      <td>0.013818</td>\n",
              "      <td>0.194216</td>\n",
              "      <td>0.013823</td>\n",
              "      <td>0.013811</td>\n",
              "      <td>0.193004</td>\n",
              "      <td>0.002612</td>\n",
              "      <td>-0.357384</td>\n",
              "      <td>0.080870</td>\n",
              "      <td>-0.334673</td>\n",
              "      <td>-0.255519</td>\n",
              "      <td>NaN</td>\n",
              "      <td>-0.002813</td>\n",
              "    </tr>\n",
              "    <tr>\n",
              "      <th>4</th>\n",
              "      <td>-0.035631</td>\n",
              "      <td>-0.000342</td>\n",
              "      <td>-0.035635</td>\n",
              "      <td>-0.003746</td>\n",
              "      <td>-0.035630</td>\n",
              "      <td>-0.035643</td>\n",
              "      <td>-0.004736</td>\n",
              "      <td>-0.010388</td>\n",
              "      <td>-0.041594</td>\n",
              "      <td>-0.077024</td>\n",
              "      <td>-0.124147</td>\n",
              "      <td>0.050346</td>\n",
              "      <td>NaN</td>\n",
              "      <td>-0.002813</td>\n",
              "    </tr>\n",
              "    <tr>\n",
              "      <th>...</th>\n",
              "      <td>...</td>\n",
              "      <td>...</td>\n",
              "      <td>...</td>\n",
              "      <td>...</td>\n",
              "      <td>...</td>\n",
              "      <td>...</td>\n",
              "      <td>...</td>\n",
              "      <td>...</td>\n",
              "      <td>...</td>\n",
              "      <td>...</td>\n",
              "      <td>...</td>\n",
              "      <td>...</td>\n",
              "      <td>...</td>\n",
              "      <td>...</td>\n",
              "    </tr>\n",
              "    <tr>\n",
              "      <th>1602</th>\n",
              "      <td>0.091913</td>\n",
              "      <td>0.130678</td>\n",
              "      <td>0.091912</td>\n",
              "      <td>0.267333</td>\n",
              "      <td>0.091916</td>\n",
              "      <td>0.091905</td>\n",
              "      <td>0.265509</td>\n",
              "      <td>0.023144</td>\n",
              "      <td>-0.462647</td>\n",
              "      <td>0.344028</td>\n",
              "      <td>-0.364748</td>\n",
              "      <td>-0.486898</td>\n",
              "      <td>NaN</td>\n",
              "      <td>-0.002813</td>\n",
              "    </tr>\n",
              "    <tr>\n",
              "      <th>1603</th>\n",
              "      <td>-0.037483</td>\n",
              "      <td>-0.019343</td>\n",
              "      <td>-0.037487</td>\n",
              "      <td>-0.043060</td>\n",
              "      <td>-0.037482</td>\n",
              "      <td>-0.037495</td>\n",
              "      <td>-0.043343</td>\n",
              "      <td>-0.010875</td>\n",
              "      <td>0.326827</td>\n",
              "      <td>-0.120368</td>\n",
              "      <td>0.349538</td>\n",
              "      <td>0.227474</td>\n",
              "      <td>NaN</td>\n",
              "      <td>-0.002813</td>\n",
              "    </tr>\n",
              "    <tr>\n",
              "      <th>1604</th>\n",
              "      <td>-0.038382</td>\n",
              "      <td>-0.033384</td>\n",
              "      <td>-0.038386</td>\n",
              "      <td>-0.072106</td>\n",
              "      <td>-0.038381</td>\n",
              "      <td>-0.038394</td>\n",
              "      <td>-0.072533</td>\n",
              "      <td>-0.011112</td>\n",
              "      <td>0.326827</td>\n",
              "      <td>-0.120368</td>\n",
              "      <td>0.349538</td>\n",
              "      <td>0.227474</td>\n",
              "      <td>NaN</td>\n",
              "      <td>-0.002813</td>\n",
              "    </tr>\n",
              "    <tr>\n",
              "      <th>1605</th>\n",
              "      <td>-0.035740</td>\n",
              "      <td>-0.001243</td>\n",
              "      <td>-0.035744</td>\n",
              "      <td>-0.005607</td>\n",
              "      <td>-0.035739</td>\n",
              "      <td>-0.035752</td>\n",
              "      <td>-0.006619</td>\n",
              "      <td>-0.010418</td>\n",
              "      <td>-0.199489</td>\n",
              "      <td>-0.031911</td>\n",
              "      <td>-0.251966</td>\n",
              "      <td>-0.068715</td>\n",
              "      <td>NaN</td>\n",
              "      <td>-0.002813</td>\n",
              "    </tr>\n",
              "    <tr>\n",
              "      <th>1606</th>\n",
              "      <td>-0.037471</td>\n",
              "      <td>-0.019184</td>\n",
              "      <td>-0.037475</td>\n",
              "      <td>-0.042725</td>\n",
              "      <td>-0.037470</td>\n",
              "      <td>-0.037483</td>\n",
              "      <td>-0.043343</td>\n",
              "      <td>-0.010872</td>\n",
              "      <td>-0.304752</td>\n",
              "      <td>0.028239</td>\n",
              "      <td>-0.312117</td>\n",
              "      <td>-0.181032</td>\n",
              "      <td>NaN</td>\n",
              "      <td>-0.002813</td>\n",
              "    </tr>\n",
              "  </tbody>\n",
              "</table>\n",
              "<p>1607 rows × 14 columns</p>\n",
              "</div>"
            ],
            "text/plain": [
              "      Receptor_measurement1  ...  Source_Location_Y\n",
              "0                 -0.037274  ...          -0.002813\n",
              "1                 -0.037594  ...          -0.002813\n",
              "2                 -0.036481  ...          -0.002813\n",
              "3                  0.013823  ...          -0.002813\n",
              "4                 -0.035631  ...          -0.002813\n",
              "...                     ...  ...                ...\n",
              "1602               0.091913  ...          -0.002813\n",
              "1603              -0.037483  ...          -0.002813\n",
              "1604              -0.038382  ...          -0.002813\n",
              "1605              -0.035740  ...          -0.002813\n",
              "1606              -0.037471  ...          -0.002813\n",
              "\n",
              "[1607 rows x 14 columns]"
            ]
          },
          "metadata": {
            "tags": []
          },
          "execution_count": 81
        }
      ]
    },
    {
      "cell_type": "code",
      "metadata": {
        "id": "bMlOMVeBa9Rs",
        "colab_type": "code",
        "colab": {}
      },
      "source": [
        "pca = PCA(n_components=6, whiten='True')\n",
        "df_pca = pca.fit(df_train).transform(df_train)"
      ],
      "execution_count": 0,
      "outputs": []
    },
    {
      "cell_type": "code",
      "metadata": {
        "id": "eeVLzq9Ba9Rt",
        "colab_type": "code",
        "colab": {}
      },
      "source": [
        "x_train, x_test, y_train, y_test = train_test_split(df_norm,df_target,test_size=0.2, random_state=4)"
      ],
      "execution_count": 0,
      "outputs": []
    },
    {
      "cell_type": "code",
      "metadata": {
        "id": "MhQT3pVra9Ru",
        "colab_type": "code",
        "colab": {}
      },
      "source": [
        "#linear=LinearRegression(normalize=True)"
      ],
      "execution_count": 0,
      "outputs": []
    },
    {
      "cell_type": "code",
      "metadata": {
        "id": "GRxw5olia9Rw",
        "colab_type": "code",
        "colab": {}
      },
      "source": [
        "from sklearn.neural_network import MLPRegressor"
      ],
      "execution_count": 0,
      "outputs": []
    },
    {
      "cell_type": "code",
      "metadata": {
        "id": "9up9PpLna9Ry",
        "colab_type": "code",
        "colab": {}
      },
      "source": [
        "from sklearn.svm import SVR\n"
      ],
      "execution_count": 0,
      "outputs": []
    },
    {
      "cell_type": "code",
      "metadata": {
        "id": "RRbJEndia9Rz",
        "colab_type": "code",
        "colab": {}
      },
      "source": [
        "nn=MLPRegressor(hidden_layer_sizes=(8,),\n",
        "                                       activation='relu',\n",
        "                                       solver='adam',\n",
        "                                       learning_rate='constant',\n",
        "                                       learning_rate_init=0.01,\n",
        "                                       alpha=0.01)"
      ],
      "execution_count": 0,
      "outputs": []
    },
    {
      "cell_type": "code",
      "metadata": {
        "id": "rXW6XiRna9R3",
        "colab_type": "code",
        "outputId": "25e772ae-35cc-4d82-ab48-776d9011859f",
        "colab": {
          "base_uri": "https://localhost:8080/",
          "height": 307
        }
      },
      "source": [
        "nn.fit(x_train,y_train)"
      ],
      "execution_count": 88,
      "outputs": [
        {
          "output_type": "error",
          "ename": "ValueError",
          "evalue": "ignored",
          "traceback": [
            "\u001b[0;31m---------------------------------------------------------------------------\u001b[0m",
            "\u001b[0;31mValueError\u001b[0m                                Traceback (most recent call last)",
            "\u001b[0;32m<ipython-input-88-28f02eb92b8e>\u001b[0m in \u001b[0;36m<module>\u001b[0;34m()\u001b[0m\n\u001b[0;32m----> 1\u001b[0;31m \u001b[0mnn\u001b[0m\u001b[0;34m.\u001b[0m\u001b[0mfit\u001b[0m\u001b[0;34m(\u001b[0m\u001b[0mx_train\u001b[0m\u001b[0;34m,\u001b[0m\u001b[0my_train\u001b[0m\u001b[0;34m)\u001b[0m\u001b[0;34m\u001b[0m\u001b[0;34m\u001b[0m\u001b[0m\n\u001b[0m",
            "\u001b[0;32m/usr/local/lib/python3.6/dist-packages/sklearn/neural_network/multilayer_perceptron.py\u001b[0m in \u001b[0;36mfit\u001b[0;34m(self, X, y)\u001b[0m\n\u001b[1;32m    620\u001b[0m         \u001b[0mself\u001b[0m \u001b[0;34m:\u001b[0m \u001b[0mreturns\u001b[0m \u001b[0ma\u001b[0m \u001b[0mtrained\u001b[0m \u001b[0mMLP\u001b[0m \u001b[0mmodel\u001b[0m\u001b[0;34m.\u001b[0m\u001b[0;34m\u001b[0m\u001b[0;34m\u001b[0m\u001b[0m\n\u001b[1;32m    621\u001b[0m         \"\"\"\n\u001b[0;32m--> 622\u001b[0;31m         \u001b[0;32mreturn\u001b[0m \u001b[0mself\u001b[0m\u001b[0;34m.\u001b[0m\u001b[0m_fit\u001b[0m\u001b[0;34m(\u001b[0m\u001b[0mX\u001b[0m\u001b[0;34m,\u001b[0m \u001b[0my\u001b[0m\u001b[0;34m,\u001b[0m \u001b[0mincremental\u001b[0m\u001b[0;34m=\u001b[0m\u001b[0;32mFalse\u001b[0m\u001b[0;34m)\u001b[0m\u001b[0;34m\u001b[0m\u001b[0;34m\u001b[0m\u001b[0m\n\u001b[0m\u001b[1;32m    623\u001b[0m \u001b[0;34m\u001b[0m\u001b[0m\n\u001b[1;32m    624\u001b[0m     \u001b[0;34m@\u001b[0m\u001b[0mproperty\u001b[0m\u001b[0;34m\u001b[0m\u001b[0;34m\u001b[0m\u001b[0m\n",
            "\u001b[0;32m/usr/local/lib/python3.6/dist-packages/sklearn/neural_network/multilayer_perceptron.py\u001b[0m in \u001b[0;36m_fit\u001b[0;34m(self, X, y, incremental)\u001b[0m\n\u001b[1;32m    321\u001b[0m                              hidden_layer_sizes)\n\u001b[1;32m    322\u001b[0m \u001b[0;34m\u001b[0m\u001b[0m\n\u001b[0;32m--> 323\u001b[0;31m         \u001b[0mX\u001b[0m\u001b[0;34m,\u001b[0m \u001b[0my\u001b[0m \u001b[0;34m=\u001b[0m \u001b[0mself\u001b[0m\u001b[0;34m.\u001b[0m\u001b[0m_validate_input\u001b[0m\u001b[0;34m(\u001b[0m\u001b[0mX\u001b[0m\u001b[0;34m,\u001b[0m \u001b[0my\u001b[0m\u001b[0;34m,\u001b[0m \u001b[0mincremental\u001b[0m\u001b[0;34m)\u001b[0m\u001b[0;34m\u001b[0m\u001b[0;34m\u001b[0m\u001b[0m\n\u001b[0m\u001b[1;32m    324\u001b[0m         \u001b[0mn_samples\u001b[0m\u001b[0;34m,\u001b[0m \u001b[0mn_features\u001b[0m \u001b[0;34m=\u001b[0m \u001b[0mX\u001b[0m\u001b[0;34m.\u001b[0m\u001b[0mshape\u001b[0m\u001b[0;34m\u001b[0m\u001b[0;34m\u001b[0m\u001b[0m\n\u001b[1;32m    325\u001b[0m \u001b[0;34m\u001b[0m\u001b[0m\n",
            "\u001b[0;32m/usr/local/lib/python3.6/dist-packages/sklearn/neural_network/multilayer_perceptron.py\u001b[0m in \u001b[0;36m_validate_input\u001b[0;34m(self, X, y, incremental)\u001b[0m\n\u001b[1;32m   1317\u001b[0m     \u001b[0;32mdef\u001b[0m \u001b[0m_validate_input\u001b[0m\u001b[0;34m(\u001b[0m\u001b[0mself\u001b[0m\u001b[0;34m,\u001b[0m \u001b[0mX\u001b[0m\u001b[0;34m,\u001b[0m \u001b[0my\u001b[0m\u001b[0;34m,\u001b[0m \u001b[0mincremental\u001b[0m\u001b[0;34m)\u001b[0m\u001b[0;34m:\u001b[0m\u001b[0;34m\u001b[0m\u001b[0;34m\u001b[0m\u001b[0m\n\u001b[1;32m   1318\u001b[0m         X, y = check_X_y(X, y, accept_sparse=['csr', 'csc', 'coo'],\n\u001b[0;32m-> 1319\u001b[0;31m                          multi_output=True, y_numeric=True)\n\u001b[0m\u001b[1;32m   1320\u001b[0m         \u001b[0;32mif\u001b[0m \u001b[0my\u001b[0m\u001b[0;34m.\u001b[0m\u001b[0mndim\u001b[0m \u001b[0;34m==\u001b[0m \u001b[0;36m2\u001b[0m \u001b[0;32mand\u001b[0m \u001b[0my\u001b[0m\u001b[0;34m.\u001b[0m\u001b[0mshape\u001b[0m\u001b[0;34m[\u001b[0m\u001b[0;36m1\u001b[0m\u001b[0;34m]\u001b[0m \u001b[0;34m==\u001b[0m \u001b[0;36m1\u001b[0m\u001b[0;34m:\u001b[0m\u001b[0;34m\u001b[0m\u001b[0;34m\u001b[0m\u001b[0m\n\u001b[1;32m   1321\u001b[0m             \u001b[0my\u001b[0m \u001b[0;34m=\u001b[0m \u001b[0mcolumn_or_1d\u001b[0m\u001b[0;34m(\u001b[0m\u001b[0my\u001b[0m\u001b[0;34m,\u001b[0m \u001b[0mwarn\u001b[0m\u001b[0;34m=\u001b[0m\u001b[0;32mTrue\u001b[0m\u001b[0;34m)\u001b[0m\u001b[0;34m\u001b[0m\u001b[0;34m\u001b[0m\u001b[0m\n",
            "\u001b[0;32m/usr/local/lib/python3.6/dist-packages/sklearn/utils/validation.py\u001b[0m in \u001b[0;36mcheck_X_y\u001b[0;34m(X, y, accept_sparse, accept_large_sparse, dtype, order, copy, force_all_finite, ensure_2d, allow_nd, multi_output, ensure_min_samples, ensure_min_features, y_numeric, warn_on_dtype, estimator)\u001b[0m\n\u001b[1;32m    717\u001b[0m                     \u001b[0mensure_min_features\u001b[0m\u001b[0;34m=\u001b[0m\u001b[0mensure_min_features\u001b[0m\u001b[0;34m,\u001b[0m\u001b[0;34m\u001b[0m\u001b[0;34m\u001b[0m\u001b[0m\n\u001b[1;32m    718\u001b[0m                     \u001b[0mwarn_on_dtype\u001b[0m\u001b[0;34m=\u001b[0m\u001b[0mwarn_on_dtype\u001b[0m\u001b[0;34m,\u001b[0m\u001b[0;34m\u001b[0m\u001b[0;34m\u001b[0m\u001b[0m\n\u001b[0;32m--> 719\u001b[0;31m                     estimator=estimator)\n\u001b[0m\u001b[1;32m    720\u001b[0m     \u001b[0;32mif\u001b[0m \u001b[0mmulti_output\u001b[0m\u001b[0;34m:\u001b[0m\u001b[0;34m\u001b[0m\u001b[0;34m\u001b[0m\u001b[0m\n\u001b[1;32m    721\u001b[0m         y = check_array(y, 'csr', force_all_finite=True, ensure_2d=False,\n",
            "\u001b[0;32m/usr/local/lib/python3.6/dist-packages/sklearn/utils/validation.py\u001b[0m in \u001b[0;36mcheck_array\u001b[0;34m(array, accept_sparse, accept_large_sparse, dtype, order, copy, force_all_finite, ensure_2d, allow_nd, ensure_min_samples, ensure_min_features, warn_on_dtype, estimator)\u001b[0m\n\u001b[1;32m    540\u001b[0m         \u001b[0;32mif\u001b[0m \u001b[0mforce_all_finite\u001b[0m\u001b[0;34m:\u001b[0m\u001b[0;34m\u001b[0m\u001b[0;34m\u001b[0m\u001b[0m\n\u001b[1;32m    541\u001b[0m             _assert_all_finite(array,\n\u001b[0;32m--> 542\u001b[0;31m                                allow_nan=force_all_finite == 'allow-nan')\n\u001b[0m\u001b[1;32m    543\u001b[0m \u001b[0;34m\u001b[0m\u001b[0m\n\u001b[1;32m    544\u001b[0m     \u001b[0;32mif\u001b[0m \u001b[0mensure_min_samples\u001b[0m \u001b[0;34m>\u001b[0m \u001b[0;36m0\u001b[0m\u001b[0;34m:\u001b[0m\u001b[0;34m\u001b[0m\u001b[0;34m\u001b[0m\u001b[0m\n",
            "\u001b[0;32m/usr/local/lib/python3.6/dist-packages/sklearn/utils/validation.py\u001b[0m in \u001b[0;36m_assert_all_finite\u001b[0;34m(X, allow_nan)\u001b[0m\n\u001b[1;32m     54\u001b[0m                 not allow_nan and not np.isfinite(X).all()):\n\u001b[1;32m     55\u001b[0m             \u001b[0mtype_err\u001b[0m \u001b[0;34m=\u001b[0m \u001b[0;34m'infinity'\u001b[0m \u001b[0;32mif\u001b[0m \u001b[0mallow_nan\u001b[0m \u001b[0;32melse\u001b[0m \u001b[0;34m'NaN, infinity'\u001b[0m\u001b[0;34m\u001b[0m\u001b[0;34m\u001b[0m\u001b[0m\n\u001b[0;32m---> 56\u001b[0;31m             \u001b[0;32mraise\u001b[0m \u001b[0mValueError\u001b[0m\u001b[0;34m(\u001b[0m\u001b[0mmsg_err\u001b[0m\u001b[0;34m.\u001b[0m\u001b[0mformat\u001b[0m\u001b[0;34m(\u001b[0m\u001b[0mtype_err\u001b[0m\u001b[0;34m,\u001b[0m \u001b[0mX\u001b[0m\u001b[0;34m.\u001b[0m\u001b[0mdtype\u001b[0m\u001b[0;34m)\u001b[0m\u001b[0;34m)\u001b[0m\u001b[0;34m\u001b[0m\u001b[0;34m\u001b[0m\u001b[0m\n\u001b[0m\u001b[1;32m     57\u001b[0m     \u001b[0;31m# for object dtype data, we only check for NaNs (GH-13254)\u001b[0m\u001b[0;34m\u001b[0m\u001b[0;34m\u001b[0m\u001b[0;34m\u001b[0m\u001b[0m\n\u001b[1;32m     58\u001b[0m     \u001b[0;32melif\u001b[0m \u001b[0mX\u001b[0m\u001b[0;34m.\u001b[0m\u001b[0mdtype\u001b[0m \u001b[0;34m==\u001b[0m \u001b[0mnp\u001b[0m\u001b[0;34m.\u001b[0m\u001b[0mdtype\u001b[0m\u001b[0;34m(\u001b[0m\u001b[0;34m'object'\u001b[0m\u001b[0;34m)\u001b[0m \u001b[0;32mand\u001b[0m \u001b[0;32mnot\u001b[0m \u001b[0mallow_nan\u001b[0m\u001b[0;34m:\u001b[0m\u001b[0;34m\u001b[0m\u001b[0;34m\u001b[0m\u001b[0m\n",
            "\u001b[0;31mValueError\u001b[0m: Input contains NaN, infinity or a value too large for dtype('float64')."
          ]
        }
      ]
    },
    {
      "cell_type": "code",
      "metadata": {
        "id": "1R_Q-e7ya9R4",
        "colab_type": "code",
        "colab": {}
      },
      "source": [
        "mean_squared_error(y_test,output)"
      ],
      "execution_count": 0,
      "outputs": []
    },
    {
      "cell_type": "code",
      "metadata": {
        "id": "T-7zEFoda9R7",
        "colab_type": "code",
        "colab": {}
      },
      "source": [
        "y_test"
      ],
      "execution_count": 0,
      "outputs": []
    },
    {
      "cell_type": "code",
      "metadata": {
        "scrolled": true,
        "id": "yMyFhtU6a9R8",
        "colab_type": "code",
        "colab": {}
      },
      "source": [
        "\n",
        "output"
      ],
      "execution_count": 0,
      "outputs": []
    },
    {
      "cell_type": "code",
      "metadata": {
        "id": "gIPEdpXRa9R-",
        "colab_type": "code",
        "colab": {}
      },
      "source": [
        "r2_score(y_test,output)"
      ],
      "execution_count": 0,
      "outputs": []
    },
    {
      "cell_type": "code",
      "metadata": {
        "id": "-HV-j88Ya9SA",
        "colab_type": "code",
        "colab": {}
      },
      "source": [
        "pd.DataFrame({'y_test': y_test ,'predict':nn.predict(x_test)})\n",
        "\n",
        "%matplotlib inline\n",
        "import matplotlib.pyplot as plt\n",
        "\n",
        "plt.plot(y_test, output, 'o', color='black');"
      ],
      "execution_count": 0,
      "outputs": []
    },
    {
      "cell_type": "code",
      "metadata": {
        "id": "Mb1qSydza9SE",
        "colab_type": "code",
        "colab": {}
      },
      "source": [
        ""
      ],
      "execution_count": 0,
      "outputs": []
    }
  ]
}